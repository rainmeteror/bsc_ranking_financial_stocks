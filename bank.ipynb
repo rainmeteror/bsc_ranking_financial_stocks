{
 "cells": [
  {
   "attachments": {},
   "cell_type": "markdown",
   "metadata": {},
   "source": [
    "# Ranking: Banking Sector\n",
    "1. Profit: ROE, ROA, NIM\n",
    "2. Health: Loan-to-provision; Loan-to-deposit; Non-performing Loan; NPL Coverage"
   ]
  },
  {
   "attachments": {},
   "cell_type": "markdown",
   "metadata": {},
   "source": [
    "## 1. Import "
   ]
  },
  {
   "attachments": {},
   "cell_type": "markdown",
   "metadata": {},
   "source": [
    "### 1.1 Library"
   ]
  },
  {
   "cell_type": "code",
   "execution_count": 177,
   "metadata": {},
   "outputs": [],
   "source": [
    "import pandas as pd\n",
    "import numpy as np\n",
    "import datetime as dt\n",
    "import pyodbc\n",
    "import pymssql\n",
    "import sys\n",
    "\n",
    "sys.path.append(r\"E:\\Tung\\Python\\DashBoard\\vnd_data\")\n",
    "import get_vnd_data as vnd\n",
    "\n",
    "# ignore warnings\n",
    "import warnings\n",
    "warnings.filterwarnings('ignore')\n",
    "\n",
    "# Customize the display of the table\n",
    "pd.set_option('chained_assignment', None)"
   ]
  },
  {
   "attachments": {},
   "cell_type": "markdown",
   "metadata": {},
   "source": [
    "### 1.2 Get the result from `ptsp_stock_fundamental_score`"
   ]
  },
  {
   "cell_type": "code",
   "execution_count": 178,
   "metadata": {},
   "outputs": [],
   "source": [
    "# Get raw final result\n",
    "conn = pyodbc.connect(\n",
    "    r'Driver={Microsoft Access Driver (*.mdb, *.accdb)};DBQ=V:\\iBroker\\stock_database.accdb;'\n",
    ")\n",
    "df_raw = pd.read_sql('select * from ptsp_stock_fundamental_score', conn)\n",
    "\n",
    "conn.close()"
   ]
  },
  {
   "attachments": {},
   "cell_type": "markdown",
   "metadata": {},
   "source": [
    "### 1.3 Process data following new model"
   ]
  },
  {
   "cell_type": "code",
   "execution_count": 179,
   "metadata": {},
   "outputs": [],
   "source": [
    "df = pd.read_csv(r\"E:\\Tung\\Python\\BSC_DataRankingStocks\\cache\\list_banks.csv\")\n",
    "list_banks = df['Symbol']\n",
    "df_bank = df_raw.loc[df_raw['Symbol'].isin(list_banks)]\n",
    "\n",
    "df_bank = df_bank[['Symbol', 'Year', 'Quarter', 'score_ROE_sector',\n",
    "       'score_ROA_sector', 'score_NIM_sector', 'score_profit', 'rank_profit', \n",
    "       'z_LoanProvisionRatio', 'z_Deposit2Loan', 'z_NPL_ratio_inv',\n",
    "       'z_NPL_coverage', 'score_health', 'rank_health',\n",
    "       'score_EPS_above_average', 'score_EPS_growth', 'score_EPS_above_sector',\n",
    "       'score_EPS_above_group', 'score_growth', 'rank_growth', 'score_PE_5Y',\n",
    "       'score_PB_5Y', 'score_PE_sector', 'score_PB_sector', 'score_valuation',\n",
    "       'rank_valuation', 'score_final', 'rank_final', 'Update']]\n",
    "\n",
    "df_bank[[\n",
    "    'score_ROE_sector', 'score_ROA_sector', 'score_NIM_sector', 'score_profit',\n",
    "    'z_LoanProvisionRatio', 'z_Deposit2Loan', 'z_NPL_ratio_inv',\n",
    "    'z_NPL_coverage', 'score_health', 'score_EPS_above_average',\n",
    "    'score_EPS_growth', 'score_EPS_above_sector', 'score_EPS_above_group',\n",
    "    'score_growth', 'score_PE_5Y', 'score_PB_5Y', 'score_PE_sector',\n",
    "    'score_PB_sector', 'score_valuation', 'score_final'\n",
    "]] = df_bank[[\n",
    "    'score_ROE_sector', 'score_ROA_sector', 'score_NIM_sector', 'score_profit',\n",
    "    'z_LoanProvisionRatio', 'z_Deposit2Loan', 'z_NPL_ratio_inv',\n",
    "    'z_NPL_coverage', 'score_health', 'score_EPS_above_average',\n",
    "    'score_EPS_growth', 'score_EPS_above_sector', 'score_EPS_above_group',\n",
    "    'score_growth', 'score_PE_5Y', 'score_PB_5Y', 'score_PE_sector',\n",
    "    'score_PB_sector', 'score_valuation', 'score_final'\n",
    "]].astype(float)\n",
    "\n",
    "df_bank['score_profit'] = round((df_bank['score_ROE_sector'] + df_bank['score_ROA_sector'] + df_bank['score_NIM_sector'])*4/3,2)\n",
    "\n",
    "for _, items in df_bank.iterrows():\n",
    "    if items['score_profit'] < 1:\n",
    "        items['rank_profit'] = 'D'\n",
    "    elif items['score_profit'] < 2:\n",
    "        items['rank_profit'] = 'C'\n",
    "    elif items['score_profit'] < 3:\n",
    "        items['rank_profit'] = 'B'\n",
    "    else:\n",
    "        items['rank_profit'] = 'A'\n",
    "        \n",
    "df_bank['score_final'] = round(np.mean(df_bank[['score_profit', 'score_health', 'score_growth', 'score_valuation']], axis=1),2)\n",
    "\n",
    "for _, items in df_bank.iterrows():\n",
    "    if items['score_final'] < 1:\n",
    "        items['rank_final'] = 'D'\n",
    "    elif items['score_final'] < 2:\n",
    "        items['rank_final'] = 'C'\n",
    "    elif items['score_final'] < 3:\n",
    "        items['rank_final'] = 'B'\n",
    "    else:\n",
    "        items['rank_final'] = 'A'\n",
    "        \n",
    "\n",
    "df_bank = df_bank.astype(str)"
   ]
  },
  {
   "attachments": {},
   "cell_type": "markdown",
   "metadata": {},
   "source": [
    "## 2. Save data to DB Access"
   ]
  },
  {
   "attachments": {},
   "cell_type": "markdown",
   "metadata": {},
   "source": [
    "### 2.1 Get data fields in new table\n",
    "- `ptsp_stock_fundamental_score_financial`"
   ]
  },
  {
   "cell_type": "code",
   "execution_count": 186,
   "metadata": {},
   "outputs": [],
   "source": [
    "conn = pyodbc.connect(\n",
    "    r'Driver={Microsoft Access Driver (*.mdb, *.accdb)};DBQ=V:\\iBroker\\stock_database.accdb;'\n",
    ")\n",
    "df_db = pd.read_sql(\"SELECT * FROM ptsp_stock_fundamental_score_financial\", con=conn)\n",
    "conn.commit()"
   ]
  },
  {
   "cell_type": "code",
   "execution_count": 230,
   "metadata": {},
   "outputs": [],
   "source": [
    "# \"],[\".join(i for i in df_db.columns.to_list())\n",
    "col_df_db = '[Symbol],[Year],[Quarter],[score_roe_sector],[score_roa_sector],[score_nim_sector],[score_profit],[rank_profit],[z_LoanProvisionRatio],[z_Deposit2Loan],[z_NPL_ratio_inv],[z_NPL_coverage],[score_health],[rank_health],[score_EPS_above_average],[score_EPS_growth],[score_EPS_above_sector],[score_EPS_above_group],[score_growth],[rank_growth],[score_PE_5Y],[score_PB_5Y],[score_PE_sector],[score_PB_sector],[score_valuation],[rank_valuation],[score_final],[rank_final],[update]'"
   ]
  },
  {
   "attachments": {},
   "cell_type": "markdown",
   "metadata": {},
   "source": [
    "### 2.2 Save data to new table"
   ]
  },
  {
   "cell_type": "code",
   "execution_count": 229,
   "metadata": {},
   "outputs": [],
   "source": [
    "conn = pyodbc.connect(\n",
    "    r'Driver={Microsoft Access Driver (*.mdb, *.accdb)};DBQ=V:\\iBroker\\stock_database.accdb;'\n",
    ")\n",
    "cursor = conn.cursor()\n",
    "for _, row in df_bank.iterrows():\n",
    "    sql = \"INSERT INTO ptsp_stock_fundamental_score_financial (\"+col_df_db+\") VALUES \"+ str(tuple(row))\n",
    "    cursor.execute(sql)\n",
    "    conn.commit()\n",
    "    \n",
    "print(\"Successfully saved data\")\n"
   ]
  },
  {
   "cell_type": "code",
   "execution_count": 234,
   "metadata": {},
   "outputs": [
    {
     "data": {
      "text/plain": [
       "' NOTES: \\nFrom now, this script need to be upgraded in step Saving data to new table. \\nBecause, it insert new data will get trouble based on current situation'"
      ]
     },
     "execution_count": 234,
     "metadata": {},
     "output_type": "execute_result"
    }
   ],
   "source": [
    "\"\"\" NOTES: \n",
    "From now, this script need to be upgraded in step Saving data to new table. \n",
    "Because, it insert new data will get trouble based on current situation\"\"\""
   ]
  },
  {
   "cell_type": "code",
   "execution_count": null,
   "metadata": {},
   "outputs": [],
   "source": []
  }
 ],
 "metadata": {
  "kernelspec": {
   "display_name": "quant",
   "language": "python",
   "name": "python3"
  },
  "language_info": {
   "codemirror_mode": {
    "name": "ipython",
    "version": 3
   },
   "file_extension": ".py",
   "mimetype": "text/x-python",
   "name": "python",
   "nbconvert_exporter": "python",
   "pygments_lexer": "ipython3",
   "version": "3.10.5"
  },
  "orig_nbformat": 4
 },
 "nbformat": 4,
 "nbformat_minor": 2
}
