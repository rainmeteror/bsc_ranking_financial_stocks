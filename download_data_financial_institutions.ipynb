{
 "cells": [
  {
   "cell_type": "code",
   "execution_count": 58,
   "metadata": {},
   "outputs": [],
   "source": [
    "import pandas as pd\n",
    "import numpy as np\n",
    "import datetime as dt\n",
    "import pymssql\n",
    "import pyodbc\n",
    "import tomli\n",
    "\n",
    "# Customize the display of the table\n",
    "pd.set_option('chained_assignment',None)\n",
    "pd.set_option('display.precision', 3)\n",
    "\n",
    "# ignore warnings\n",
    "import warnings\n",
    "warnings.filterwarnings('ignore')"
   ]
  },
  {
   "cell_type": "code",
   "execution_count": 59,
   "metadata": {},
   "outputs": [],
   "source": [
    "with open(r\"E:\\Tung\\Python\\full\\s2_officialVersion\\s2_officialVersion\\config\\db_website.toml\", mode=\"rb\") as fp:\n",
    "    config = tomli.load(fp)"
   ]
  },
  {
   "cell_type": "code",
   "execution_count": 60,
   "metadata": {},
   "outputs": [],
   "source": [
    "# 3. Set up confiq for SQL Server Management\n",
    "sv = config[\"account\"][\"sv\"]\n",
    "user = config[\"account\"][\"user\"]\n",
    "pwd = config[\"account\"][\"pwd\"]\n",
    "db = config[\"account\"][\"db\"]"
   ]
  },
  {
   "cell_type": "code",
   "execution_count": 61,
   "metadata": {},
   "outputs": [],
   "source": [
    "is_insurance = config[\"query_price\"][\"income_statement_insurance\"]\n",
    "bs_insurance = config[\"query_price\"][\"balance_sheet_insurance\"]\n",
    "is_securities = config[\"query_price\"][\"income_statement_securities\"]\n",
    "bs_securities = config[\"query_price\"][\"balance_sheet_securities\"]"
   ]
  },
  {
   "cell_type": "code",
   "execution_count": 62,
   "metadata": {},
   "outputs": [],
   "source": [
    "query = [is_insurance, bs_insurance, is_securities, bs_securities]"
   ]
  },
  {
   "cell_type": "code",
   "execution_count": 63,
   "metadata": {},
   "outputs": [],
   "source": [
    "save_csv = [\n",
    "    r\"E:\\Tung\\Python\\BSC_DataRankingStocks\\cache\\is_insurance.csv\",\n",
    "    r\"E:\\Tung\\Python\\BSC_DataRankingStocks\\cache\\bs_insurance.csv\",\n",
    "    r\"E:\\Tung\\Python\\BSC_DataRankingStocks\\cache\\is_securities.csv\",\n",
    "    r\"E:\\Tung\\Python\\BSC_DataRankingStocks\\cache\\bs_securities.csv\",\n",
    "]"
   ]
  },
  {
   "cell_type": "code",
   "execution_count": 64,
   "metadata": {},
   "outputs": [
    {
     "name": "stdout",
     "output_type": "stream",
     "text": [
      "1: Downloaded file E:\\Tung\\Python\\BSC_DataRankingStocks\\cache\\is_insurance.csv\n",
      "2: Downloaded file E:\\Tung\\Python\\BSC_DataRankingStocks\\cache\\bs_insurance.csv\n",
      "3: Downloaded file E:\\Tung\\Python\\BSC_DataRankingStocks\\cache\\is_securities.csv\n",
      "4: Downloaded file E:\\Tung\\Python\\BSC_DataRankingStocks\\cache\\bs_securities.csv\n"
     ]
    }
   ],
   "source": [
    "for i in range(0,4):\n",
    "    conn = pymssql.connect(server=sv, user=user, password=pwd, database=db)\n",
    "    data = pd.read_sql(query[i], con=conn)\n",
    "    data.to_csv(save_csv[i])\n",
    "    print(f\"{i+1}: Downloaded file {save_csv[i]}\")\n",
    "    \n",
    "conn.commit()\n",
    "conn.close()"
   ]
  },
  {
   "cell_type": "code",
   "execution_count": 65,
   "metadata": {},
   "outputs": [],
   "source": [
    "list_banks = config['query_price'][\"list_banks\"]"
   ]
  },
  {
   "cell_type": "code",
   "execution_count": 66,
   "metadata": {},
   "outputs": [],
   "source": [
    "conn = pymssql.connect(server=sv, user=user, password=pwd, database=db)\n",
    "data = pd.read_sql(list_banks, con=conn)"
   ]
  },
  {
   "cell_type": "code",
   "execution_count": 67,
   "metadata": {},
   "outputs": [],
   "source": [
    "data[['Symbol', 'CompanyType', 'ICBIndustry']].to_csv(r\"E:\\Tung\\Python\\BSC_DataRankingStocks\\cache\\list_banks.csv\")"
   ]
  },
  {
   "cell_type": "code",
   "execution_count": 68,
   "metadata": {},
   "outputs": [],
   "source": [
    "conn.commit()"
   ]
  },
  {
   "attachments": {},
   "cell_type": "markdown",
   "metadata": {},
   "source": []
  }
 ],
 "metadata": {
  "kernelspec": {
   "display_name": "quant",
   "language": "python",
   "name": "python3"
  },
  "language_info": {
   "codemirror_mode": {
    "name": "ipython",
    "version": 3
   },
   "file_extension": ".py",
   "mimetype": "text/x-python",
   "name": "python",
   "nbconvert_exporter": "python",
   "pygments_lexer": "ipython3",
   "version": "3.10.5"
  },
  "orig_nbformat": 4
 },
 "nbformat": 4,
 "nbformat_minor": 2
}
